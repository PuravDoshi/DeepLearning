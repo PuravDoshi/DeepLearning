{
  "nbformat": 4,
  "nbformat_minor": 0,
  "metadata": {
    "colab": {
      "provenance": []
    },
    "kernelspec": {
      "name": "python3",
      "display_name": "Python 3"
    },
    "language_info": {
      "name": "python"
    }
  },
  "cells": [
    {
      "cell_type": "code",
      "execution_count": null,
      "metadata": {
        "id": "3ZeKviPkNamG"
      },
      "outputs": [],
      "source": [
        "import tensorflow as tf\n",
        "print(tf.__version__)"
      ]
    },
    {
      "cell_type": "code",
      "source": [
        "import numpy as np\n",
        "import pandas as pd\n",
        "import matplotlib.pyplot as plt\n",
        "import seaborn as sns"
      ],
      "metadata": {
        "id": "3kdftQiHOBYZ"
      },
      "execution_count": null,
      "outputs": []
    },
    {
      "cell_type": "code",
      "source": [
        "# Data Preprocessing\n",
        "from google.colab import files\n",
        "uploaded=files.upload()"
      ],
      "metadata": {
        "id": "_wod8usMOa5M"
      },
      "execution_count": null,
      "outputs": []
    },
    {
      "cell_type": "code",
      "source": [
        "df=pd.read_csv('Churn_Modelling.csv')\n",
        "df.head()"
      ],
      "metadata": {
        "id": "95KPKLI6PnuB"
      },
      "execution_count": null,
      "outputs": []
    },
    {
      "cell_type": "code",
      "source": [
        "df=df.drop(columns=['RowNumber','CustomerId','Surname'])\n",
        "df.head()"
      ],
      "metadata": {
        "id": "3v9P1zwPP8nL"
      },
      "execution_count": null,
      "outputs": []
    },
    {
      "cell_type": "code",
      "source": [
        "# Selecting the independent and dependent features\n",
        "x=df.drop(columns='Exited',axis=1)\n",
        "y=df['Exited']"
      ],
      "metadata": {
        "id": "Rd5i7MQ9Qnuq"
      },
      "execution_count": null,
      "outputs": []
    },
    {
      "cell_type": "code",
      "source": [
        "# Encoding for categorical values\n",
        "from sklearn.preprocessing import LabelEncoder\n",
        "le=LabelEncoder()\n",
        "x['Geography']=le.fit_transform(x['Geography'])\n",
        "x['Gender']=le.fit_transform(x['Gender'])\n",
        "x.head(9)"
      ],
      "metadata": {
        "id": "MAH2q-H7Rf2z"
      },
      "execution_count": null,
      "outputs": []
    },
    {
      "cell_type": "code",
      "source": [
        "# Performing One Hot Encoding\n",
        "x=pd.get_dummies(x,columns=['Geography','Gender'],drop_first=True)\n",
        "x.head()"
      ],
      "metadata": {
        "id": "3HmieM23TLvb"
      },
      "execution_count": null,
      "outputs": []
    },
    {
      "cell_type": "code",
      "source": [
        "from sklearn.model_selection import train_test_split\n",
        "x_train,x_test,y_train,y_test=train_test_split(x,y,test_size=0.2,random_state=0)"
      ],
      "metadata": {
        "id": "TL3TwfSvUPwM"
      },
      "execution_count": null,
      "outputs": []
    },
    {
      "cell_type": "code",
      "source": [
        "x_train.shape\n",
        "x_test.shape\n",
        "y_train.shape\n",
        "y_test.shape"
      ],
      "metadata": {
        "id": "S-sWmZhdUiav"
      },
      "execution_count": null,
      "outputs": []
    },
    {
      "cell_type": "code",
      "source": [
        "# Feature Scaling\n",
        "from sklearn.preprocessing import StandardScaler\n",
        "scaler=StandardScaler()\n",
        "x_train_scaled=scaler.fit_transform(x_train)\n",
        "x_test_scaled=scaler.fit_transform(x_test)"
      ],
      "metadata": {
        "id": "s5chPQ8HUsDW"
      },
      "execution_count": null,
      "outputs": []
    },
    {
      "cell_type": "code",
      "source": [
        "# Building the model\n",
        "# 1. Creating an object (Initialising an Artificial Neural Network)\n",
        "model= tf.keras.models.Sequential()"
      ],
      "metadata": {
        "id": "2qx9y7OmVy70"
      },
      "execution_count": null,
      "outputs": []
    },
    {
      "cell_type": "code",
      "source": [
        "# Adding the input and first hidden layer (units, activation function, dimensions)\n",
        "model.add(tf.keras.layers.Dense(units=6,activation='relu',input_dim=10))"
      ],
      "metadata": {
        "id": "yvxv_coFWsm0"
      },
      "execution_count": null,
      "outputs": []
    },
    {
      "cell_type": "code",
      "source": [
        "# Adding second hiiden layer\n",
        "model.add(tf.keras.layers.Dense(units=6,activation='relu'))"
      ],
      "metadata": {
        "id": "9FEXIuGAXdjQ"
      },
      "execution_count": null,
      "outputs": []
    },
    {
      "cell_type": "code",
      "source": [
        "# Output Layer\n",
        "model.add(tf.keras.layers.Dense(units=1,activation='sigmoid'))"
      ],
      "metadata": {
        "id": "2dX0HCwXXmGe"
      },
      "execution_count": null,
      "outputs": []
    },
    {
      "cell_type": "code",
      "source": [
        "# Compiling the model\n",
        "model.compile(optimizer='adam',loss='binary_crossentropy',metrics=['accuracy'])"
      ],
      "metadata": {
        "id": "cec0k1oyYLlU"
      },
      "execution_count": null,
      "outputs": []
    },
    {
      "cell_type": "code",
      "source": [
        "model.summary()"
      ],
      "metadata": {
        "id": "KhKqU6bTYfW6"
      },
      "execution_count": null,
      "outputs": []
    },
    {
      "cell_type": "code",
      "source": [
        "# Training the model\n",
        "model.fit(x_train_scaled,y_train.to_numpy(),batch_size=10,epochs=20)"
      ],
      "metadata": {
        "id": "nkOIITz4Y_pe"
      },
      "execution_count": null,
      "outputs": []
    },
    {
      "cell_type": "code",
      "source": [
        "# Model Evaluation and Prediction\n",
        "test_loss,test_accuracy=model.evaluate(x_test_scaled,y_test.to_numpy())"
      ],
      "metadata": {
        "id": "Y1Uq_YDpZkay"
      },
      "execution_count": null,
      "outputs": []
    },
    {
      "cell_type": "code",
      "source": [
        "print(\"Accuracy : \",test_accuracy*100,\"%\")"
      ],
      "metadata": {
        "id": "bGSRKPghaBzn"
      },
      "execution_count": null,
      "outputs": []
    },
    {
      "cell_type": "code",
      "source": [
        "# Making Predictions\n",
        "y_pred=model.predict(x_test_scaled).argmax(axis=1)\n",
        "y_pred"
      ],
      "metadata": {
        "id": "cnkqZz3qbNHA"
      },
      "execution_count": null,
      "outputs": []
    },
    {
      "cell_type": "code",
      "source": [
        "y_pred[11]\n",
        "y_test[11]"
      ],
      "metadata": {
        "id": "cNZN-YFwcJ8L"
      },
      "execution_count": null,
      "outputs": []
    }
  ]
}